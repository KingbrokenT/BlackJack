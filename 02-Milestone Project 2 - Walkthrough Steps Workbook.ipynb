{
 "cells": [
  {
   "cell_type": "markdown",
   "metadata": {},
   "source": [
    "___\n",
    "\n",
    "<a href='https://www.udemy.com/user/joseportilla/'><img src='../Pierian_Data_Logo.png'/></a>\n",
    "___\n",
    "<center><em>Content Copyright by Pierian Data</em></center>"
   ]
  },
  {
   "cell_type": "markdown",
   "metadata": {
    "collapsed": true
   },
   "source": [
    "# Milestone Project 2 - Walkthrough Steps Workbook\n",
    "Below is a set of steps for you to follow to try to create the Blackjack Milestone Project game!"
   ]
  },
  {
   "cell_type": "markdown",
   "metadata": {},
   "source": [
    "## Game Play\n",
    "To play a hand of Blackjack the following steps must be followed:\n",
    "1. Create a deck of 52 cards\n",
    "2. Shuffle the deck\n",
    "3. Ask the Player for their bet\n",
    "4. Make sure that the Player's bet does not exceed their available chips\n",
    "5. Deal two cards to the Dealer and two cards to the Player\n",
    "6. Show only one of the Dealer's cards, the other remains hidden\n",
    "7. Show both of the Player's cards\n",
    "8. Ask the Player if they wish to Hit, and take another card\n",
    "9. If the Player's hand doesn't Bust (go over 21), ask if they'd like to Hit again.\n",
    "10. If a Player Stands, play the Dealer's hand. The dealer will always Hit until the Dealer's value meets or exceeds 17\n",
    "11. Determine the winner and adjust the Player's chips accordingly\n",
    "12. Ask the Player if they'd like to play again"
   ]
  },
  {
   "cell_type": "markdown",
   "metadata": {},
   "source": [
    "## Playing Cards\n",
    "A standard deck of playing cards has four suits (Hearts, Diamonds, Spades and Clubs) and thirteen ranks (2 through 10, then the face cards Jack, Queen, King and Ace) for a total of 52 cards per deck. Jacks, Queens and Kings all have a rank of 10. Aces have a rank of either 11 or 1 as needed to reach 21 without busting. As a starting point in your program, you may want to assign variables to store a list of suits, ranks, and then use a dictionary to map ranks to values."
   ]
  },
  {
   "cell_type": "markdown",
   "metadata": {},
   "source": [
    "## The Game\n",
    "### Imports and Global Variables\n",
    "** Step 1: Import the random module. This will be used to shuffle the deck prior to dealing. Then, declare variables to store suits, ranks and values. You can develop your own system, or copy ours below. Finally, declare a Boolean value to be used to control <code>while</code> loops. This is a common practice used to control the flow of the game.**\n",
    "\n",
    "    suits = ('Hearts', 'Diamonds', 'Spades', 'Clubs')\n",
    "    ranks = ('Two', 'Three', 'Four', 'Five', 'Six', 'Seven', 'Eight', 'Nine', 'Ten', 'Jack', 'Queen', 'King', 'Ace')\n",
    "    values = {'Two':2, 'Three':3, 'Four':4, 'Five':5, 'Six':6, 'Seven':7, 'Eight':8, 'Nine':9, 'Ten':10, 'Jack':10,\n",
    "             'Queen':10, 'King':10, 'Ace':11}"
   ]
  },
  {
   "cell_type": "code",
   "execution_count": 1,
   "metadata": {},
   "outputs": [],
   "source": [
    "import random\n",
    "\n",
    "suits = ('Hearts', 'Diamonds', 'Spades', 'Clubs')\n",
    "ranks = ('Two', 'Three', 'Four', 'Five', 'Six', 'Seven', 'Eight', 'Nine', 'Ten', 'Jack', 'Queen', 'King', 'Ace')\n",
    "values = {'Two':2, 'Three':3, 'Four':4, 'Five':5, 'Six':6, 'Seven':7, 'Eight':8, 'Nine':9, 'Ten':10, 'Jack':10,\n",
    "             'Queen':10, 'King':10, 'Ace':11}\n",
    "\n",
    "playing = True"
   ]
  },
  {
   "cell_type": "markdown",
   "metadata": {},
   "source": [
    "### Class Definitions\n",
    "Consider making a Card class where each Card object has a suit and a rank, then a Deck class to hold all 52 Card objects, and can be shuffled, and finally a Hand class that holds those Cards that have been dealt to each player from the Deck."
   ]
  },
  {
   "cell_type": "markdown",
   "metadata": {},
   "source": [
    "**Step 2: Create a Card Class**<br>\n",
    "A Card object really only needs two attributes: suit and rank. You might add an attribute for \"value\" - we chose to handle value later when developing our Hand class.<br>In addition to the Card's \\_\\_init\\_\\_ method, consider adding a \\_\\_str\\_\\_ method that, when asked to print a Card, returns a string in the form \"Two of Hearts\""
   ]
  },
  {
   "cell_type": "code",
   "execution_count": 2,
   "metadata": {},
   "outputs": [],
   "source": [
    "class Card:\n",
    "    \n",
    "    def __init__(self,suit,rank):\n",
    "        self.suit = suit\n",
    "        self.rank = rank\n",
    "    \n",
    "    def __str__(self):\n",
    "        return self.rank + ' of ' + self.suit"
   ]
  },
  {
   "cell_type": "markdown",
   "metadata": {},
   "source": [
    "**Step 3: Create a Deck Class**<br>\n",
    "Here we might store 52 card objects in a list that can later be shuffled. First, though, we need to *instantiate* all 52 unique card objects and add them to our list. So long as the Card class definition appears in our code, we can build Card objects inside our Deck \\_\\_init\\_\\_ method. Consider iterating over sequences of suits and ranks to build out each card. This might appear inside a Deck class \\_\\_init\\_\\_ method:\n",
    "\n",
    "    for suit in suits:\n",
    "        for rank in ranks:\n",
    "\n",
    "In addition to an \\_\\_init\\_\\_ method we'll want to add methods to shuffle our deck, and to deal out cards during gameplay.<br><br>\n",
    "OPTIONAL: We may never need to print the contents of the deck during gameplay, but having the ability to see the cards inside it may help troubleshoot any problems that occur during development. With this in mind, consider adding a \\_\\_str\\_\\_ method to the class definition."
   ]
  },
  {
   "cell_type": "code",
   "execution_count": 12,
   "metadata": {},
   "outputs": [],
   "source": [
    "class Deck:\n",
    "    \n",
    "    def __init__(self):\n",
    "        self.all_cards = []  # start with an empty list\n",
    "        for suit in suits:\n",
    "            for rank in ranks:\n",
    "                self.all_cards.append(Card(suit,rank))\n",
    "    \n",
    "    def __str__(self):\n",
    "        deck_st = ''\n",
    "        for card in self.all_cards:\n",
    "            deck_st += (str(card)+'\\n')\n",
    "        return deck_st\n",
    "\n",
    "    def shuffle(self):\n",
    "        random.shuffle(self.all_cards)\n",
    "        \n",
    "    def deal_one(self):\n",
    "        return self.all_cards.pop()"
   ]
  },
  {
   "cell_type": "markdown",
   "metadata": {},
   "source": [
    "TESTING: Just to see that everything works so far, let's see what our Deck looks like!"
   ]
  },
  {
   "cell_type": "code",
   "execution_count": 14,
   "metadata": {},
   "outputs": [
    {
     "name": "stdout",
     "output_type": "stream",
     "text": [
      "Two of Hearts\n",
      "Three of Hearts\n",
      "Four of Hearts\n",
      "Five of Hearts\n",
      "Six of Hearts\n",
      "Seven of Hearts\n",
      "Eight of Hearts\n",
      "Nine of Hearts\n",
      "Ten of Hearts\n",
      "Jack of Hearts\n",
      "Queen of Hearts\n",
      "King of Hearts\n",
      "Ace of Hearts\n",
      "Two of Diamonds\n",
      "Three of Diamonds\n",
      "Four of Diamonds\n",
      "Five of Diamonds\n",
      "Six of Diamonds\n",
      "Seven of Diamonds\n",
      "Eight of Diamonds\n",
      "Nine of Diamonds\n",
      "Ten of Diamonds\n",
      "Jack of Diamonds\n",
      "Queen of Diamonds\n",
      "King of Diamonds\n",
      "Ace of Diamonds\n",
      "Two of Spades\n",
      "Three of Spades\n",
      "Four of Spades\n",
      "Five of Spades\n",
      "Six of Spades\n",
      "Seven of Spades\n",
      "Eight of Spades\n",
      "Nine of Spades\n",
      "Ten of Spades\n",
      "Jack of Spades\n",
      "Queen of Spades\n",
      "King of Spades\n",
      "Ace of Spades\n",
      "Two of Clubs\n",
      "Three of Clubs\n",
      "Four of Clubs\n",
      "Five of Clubs\n",
      "Six of Clubs\n",
      "Seven of Clubs\n",
      "Eight of Clubs\n",
      "Nine of Clubs\n",
      "Ten of Clubs\n",
      "Jack of Clubs\n",
      "Queen of Clubs\n",
      "King of Clubs\n",
      "Ace of Clubs\n",
      "\n"
     ]
    },
    {
     "data": {
      "text/plain": [
       "<__main__.Card at 0x237e4f190a0>"
      ]
     },
     "execution_count": 14,
     "metadata": {},
     "output_type": "execute_result"
    }
   ],
   "source": [
    "test_deck = Deck()\n",
    "print(test_deck)\n",
    "test_deck.deal_one()"
   ]
  },
  {
   "cell_type": "markdown",
   "metadata": {},
   "source": [
    "Great! Now let's move on to our Hand class."
   ]
  },
  {
   "cell_type": "markdown",
   "metadata": {},
   "source": [
    "**Step 4: Create a Hand Class**<br>\n",
    "In addition to holding Card objects dealt from the Deck, the Hand class may be used to calculate the value of those cards using the values dictionary defined above. It may also need to adjust for the value of Aces when appropriate."
   ]
  },
  {
   "cell_type": "code",
   "execution_count": 4,
   "metadata": {},
   "outputs": [],
   "source": [
    "class Hand:\n",
    "    def __init__(self,name):\n",
    "        self.name = name\n",
    "        self.cards = []  # start with an empty list as we did in the Deck class\n",
    "        self.value = 0 # start with zero value\n",
    "        self.aces = 0    # add an attribute to keep track of aces\n",
    "    \n",
    "    def add_card(self,new_card):\n",
    "        self.cards.append(new_card)\n",
    "        if new_card.rank == 'ace':\n",
    "            self.aces += 1\n",
    "    \n",
    "    def get_value(self):\n",
    "        self.value = 0\n",
    "        self.aces = 0\n",
    "        for cards in self.cards:\n",
    "            self.value += values[cards.rank]\n",
    "            if cards.rank == 'ace':\n",
    "                self.aces += 1\n",
    "        \n",
    "    def adjust_for_ace(self):\n",
    "        self.value -= 10\n",
    "        self.aces -= 1\n",
    "        \n",
    "    def __str__(self):\n",
    "        hand_st = ''\n",
    "        for card in self.cards:\n",
    "            hand_st += (str(card)+', ')\n",
    "        return hand_st\n",
    "    \n",
    "    def discard(self):\n",
    "        # Note we remove one card from the list of all_cards\n",
    "        # We state 0 to remove from the \"top\" of the deck\n",
    "        # We'#ll imagine index -1 as the bottom of the deck\n",
    "        return self.cards.clear()"
   ]
  },
  {
   "cell_type": "markdown",
   "metadata": {},
   "source": [
    "**Step 5: Create a Chips Class**<br>\n",
    "In addition to decks of cards and hands, we need to keep track of a Player's starting chips, bets, and ongoing winnings. This could be done using global variables, but in the spirit of object oriented programming, let's make a Chips class instead!"
   ]
  },
  {
   "cell_type": "code",
   "execution_count": 5,
   "metadata": {},
   "outputs": [],
   "source": [
    "class Chips:\n",
    "    \n",
    "    def __init__(self):\n",
    "        self.total = 1000  # This can be set to a default value or supplied by a user input\n",
    "        self.bet = 0\n",
    "    \n",
    "    def win_bet(self):\n",
    "        self.total += self.bet\n",
    "    \n",
    "    def lose_bet(self):\n",
    "        self.total -= self.bet\n",
    "    \n",
    "    def change_bet(self):\n",
    "        iv_bet = True\n",
    "        while iv_bet:\n",
    "            self.bet = int(input(f'You have {self.total} chips. What is your bet? '))\n",
    "            if self.bet > self.total:\n",
    "                print('Invalid bet!')\n",
    "            elif self.bet <= self.total:\n",
    "                iv_bet = False"
   ]
  },
  {
   "cell_type": "markdown",
   "metadata": {},
   "source": [
    "### Function Defintions\n",
    "A lot of steps are going to be repetitive. That's where functions come in! The following steps are guidelines - add or remove functions as needed in your own program."
   ]
  },
  {
   "cell_type": "markdown",
   "metadata": {},
   "source": [
    "**Step 6: Write a function for taking bets**<br>\n",
    "Since we're asking the user for an integer value, this would be a good place to use <code>try</code>/<code>except</code>. Remember to check that a Player's bet can be covered by their available chips."
   ]
  },
  {
   "cell_type": "code",
   "execution_count": 6,
   "metadata": {},
   "outputs": [],
   "source": [
    "def take_bet(chip_var):\n",
    "    chip_var.change_bet()"
   ]
  },
  {
   "cell_type": "markdown",
   "metadata": {},
   "source": [
    "**Step 7: Write a function for taking hits**<br>\n",
    "Either player can take hits until they bust. This function will be called during gameplay anytime a Player requests a hit, or a Dealer's hand is less than 17. It should take in Deck and Hand objects as arguments, and deal one card off the deck and add it to the Hand. You may want it to check for aces in the event that a player's hand exceeds 21."
   ]
  },
  {
   "cell_type": "code",
   "execution_count": 7,
   "metadata": {},
   "outputs": [],
   "source": [
    "def hit(deck,hand):\n",
    "    hand.add_card(deck.deal_one())"
   ]
  },
  {
   "cell_type": "markdown",
   "metadata": {},
   "source": [
    "**Step 8: Write a function prompting the Player to Hit or Stand**<br>\n",
    "This function should accept the deck and the player's hand as arguments, and assign playing as a global variable.<br>\n",
    "If the Player Hits, employ the hit() function above. If the Player Stands, set the playing variable to False - this will control the behavior of a <code>while</code> loop later on in our code."
   ]
  },
  {
   "cell_type": "code",
   "execution_count": 8,
   "metadata": {},
   "outputs": [],
   "source": [
    "def hit_or_stand(deck,hand):\n",
    "    global playing  # to control an upcoming while loop\n",
    "    hitQ = input(f'Your value is {hand.value} Would you like to hit, Y or N ')\n",
    "    if hitQ in ['y','Y','yes','Yes']:\n",
    "        playing = True\n",
    "        hit(deck,hand)\n",
    "    elif hitQ in ['n','N','no','No']:\n",
    "        playing = False"
   ]
  },
  {
   "cell_type": "markdown",
   "metadata": {},
   "source": [
    "**Step 9: Write functions to display cards**<br>\n",
    "When the game starts, and after each time Player takes a card, the dealer's first card is hidden and all of Player's cards are visible. At the end of the hand all cards are shown, and you may want to show each hand's total value. Write a function for each of these scenarios."
   ]
  },
  {
   "cell_type": "code",
   "execution_count": 9,
   "metadata": {},
   "outputs": [],
   "source": [
    "def show_some(player,dealer):\n",
    "    print(f'{player.name} has the hand {player}')\n",
    "    print(f'The Dealer has a {dealer.cards[1]}')\n",
    "    \n",
    "def show_all(player,dealer):\n",
    "    print(f'{player.name} has the hand {player}')\n",
    "    print(f'The Dealer has the hand {dealer}')"
   ]
  },
  {
   "cell_type": "markdown",
   "metadata": {},
   "source": [
    "**Step 10: Write functions to handle end of game scenarios**<br>\n",
    "Remember to pass player's hand, dealer's hand and chips as needed."
   ]
  },
  {
   "cell_type": "code",
   "execution_count": null,
   "metadata": {
    "collapsed": true
   },
   "outputs": [],
   "source": [
    "def player_busts():\n",
    "    pass\n",
    "\n",
    "def player_wins():\n",
    "    pass\n",
    "\n",
    "def dealer_busts():\n",
    "    pass\n",
    "    \n",
    "def dealer_wins():\n",
    "    pass\n",
    "    \n",
    "def push():\n",
    "    pass"
   ]
  },
  {
   "cell_type": "markdown",
   "metadata": {},
   "source": [
    "### And now on to the game!!"
   ]
  },
  {
   "cell_type": "code",
   "execution_count": 17,
   "metadata": {},
   "outputs": [
    {
     "name": "stdout",
     "output_type": "stream",
     "text": [
      "Welcome to blackjack. You have 1000 Chips.\n",
      "You have 1000 chips. What is your bet? 100\n",
      "You has the hand Two of Hearts, Four of Hearts, \n",
      "The Dealer has a Five of Diamonds\n",
      "Your value is 6 Would you like to hit, Y or N Y\n",
      "You has the hand Two of Hearts, Four of Hearts, Seven of Hearts, \n",
      "The Dealer has a Five of Diamonds\n",
      "Your value is 13 Would you like to hit, Y or N Y\n",
      "You has the hand Two of Hearts, Four of Hearts, Seven of Hearts, Four of Clubs, \n",
      "The Dealer has a Five of Diamonds\n",
      "Your value is 17 Would you like to hit, Y or N N\n",
      "You has the hand Two of Hearts, Four of Hearts, Seven of Hearts, Four of Clubs, \n",
      "The Dealer has a Five of Diamonds\n",
      "0\n",
      "0\n",
      "You has the hand Two of Hearts, Four of Hearts, Seven of Hearts, Four of Clubs, \n",
      "The Dealer has the hand Four of Spades, Five of Diamonds, Two of Diamonds, Seven of Diamonds, \n",
      "You have lost!\n",
      "You have 900 chips remaining, would you like to play again? Y or N Y\n",
      "You have 900 chips. What is your bet? 100\n",
      "You has the hand Six of Hearts, Seven of Spades, \n",
      "The Dealer has a Eight of Clubs\n",
      "Your value is 13 Would you like to hit, Y or N Y\n",
      "You has the hand Six of Hearts, Seven of Spades, Queen of Hearts, \n",
      "The Dealer has a Eight of Clubs\n",
      "You drew Queen of Hearts. Your total is now 23. You busted!\n",
      "You have 800 chips remaining, would you like to play again? Y or N Y\n",
      "You have 800 chips. What is your bet? 900\n",
      "Invalid bet!\n",
      "You have 800 chips. What is your bet? 800\n",
      "You has the hand Nine of Hearts, Eight of Clubs, \n",
      "The Dealer has a Nine of Diamonds\n",
      "Your value is 17 Would you like to hit, Y or N N\n",
      "You has the hand Nine of Hearts, Eight of Clubs, \n",
      "The Dealer has a Nine of Diamonds\n",
      "You has the hand Nine of Hearts, Eight of Clubs, \n",
      "The Dealer has the hand Jack of Diamonds, Nine of Diamonds, \n",
      "You have lost!\n",
      "You have 0 chips remaining, would you like to play again? Y or N N\n"
     ]
    }
   ],
   "source": [
    "You = Hand('You')\n",
    "dealer = Hand('Dealer')\n",
    "pchips = Chips()\n",
    "playing = True\n",
    "print('Welcome to blackjack. You have 1000 Chips.')\n",
    "while True:\n",
    "    # Print an opening statement\n",
    "    \n",
    "    # Create & shuffle the deck, deal two cards to each player\n",
    "    bjdeck = Deck()\n",
    "    bjdeck.shuffle()\n",
    "    \n",
    "    for card in range(2):\n",
    "        You.add_card(bjdeck.deal_one())\n",
    "        dealer.add_card(bjdeck.deal_one())\n",
    "    \n",
    "    # Prompt the Player for their bet\n",
    "    bet = take_bet(pchips)\n",
    "    \n",
    "    # Show cards (but keep one dealer card hidden)\n",
    "    show_some(You,dealer)\n",
    "    You.get_value()\n",
    "    dealer.get_value()\n",
    "    \n",
    "    while playing:  # recall this variable from our hit_or_stand function\n",
    "        bust = False\n",
    "        # Prompt for Player to Hit or Stand\n",
    "        hit_or_stand(bjdeck,You)\n",
    "        \n",
    "        # Show cards (but keep one dealer card hidden)\n",
    "        show_some(You,dealer)\n",
    "        You.get_value()\n",
    "        # If player's hand exceeds 21, run player_busts() and break out of loop\n",
    "        if You.value > 21 and You.aces > 0:\n",
    "            You.adjust_for_ace()\n",
    "            print('Changed ace form 11 to 1')\n",
    "        elif You.value > 21:\n",
    "            print(f'You drew {You.cards[-1]}. Your total is now {You.value}. You busted!')\n",
    "            pchips.lose_bet()\n",
    "            playing = False\n",
    "            bust = True\n",
    "            break\n",
    "\n",
    "    # If Player hasn't busted, play Dealer's hand until Dealer reaches 17\n",
    "    if not bust:\n",
    "        dealhitct = 0\n",
    "        while dealer.value < 17:\n",
    "            hit(bjdeck,dealer)\n",
    "            dealer.get_value()\n",
    "            print(dealhitct)\n",
    "            if dealer.value > 21 and dealer.aces > 0:\n",
    "                dealer.adjust_for_ace()\n",
    "    \n",
    "    \n",
    "        # Show all cards\n",
    "        show_all(You,dealer)\n",
    "    \n",
    "\n",
    "        # Run different winning scenarios\n",
    "        if dealer.value > 21:       \n",
    "            print('The Dealer has busted!')\n",
    "            pchips.win_bet()\n",
    "        elif You.value > dealer.value:\n",
    "            print('You have won!')\n",
    "            pchips.win_bet()\n",
    "        elif You.value < dealer.value:\n",
    "            print('You have lost!')\n",
    "            pchips.lose_bet()\n",
    "        elif You.value == dealer.value:\n",
    "            print('It was a tie!')\n",
    "    # Inform Player of their chips total \n",
    "    \n",
    "    # Ask to play again\n",
    "    playagain = input(f'You have {pchips.total} chips remaining, would you like to play again? Y or N ')\n",
    "    if playagain in ['y','Y','yes','Yes']:\n",
    "        You.discard()\n",
    "        dealer.discard()\n",
    "        playing = True\n",
    "    elif playagain in ['n','N','no','No']:\n",
    "        playing = False\n",
    "        break"
   ]
  },
  {
   "cell_type": "markdown",
   "metadata": {},
   "source": [
    "And that's it! Remember, these steps may differ significantly from your own solution. That's OK! Keep working on different sections of your program until you get the desired results. It takes a lot of time and patience! As always, feel free to post questions and comments to the QA Forums.\n",
    "# Good job!"
   ]
  }
 ],
 "metadata": {
  "kernelspec": {
   "display_name": "Python 3",
   "language": "python",
   "name": "python3"
  },
  "language_info": {
   "codemirror_mode": {
    "name": "ipython",
    "version": 3
   },
   "file_extension": ".py",
   "mimetype": "text/x-python",
   "name": "python",
   "nbconvert_exporter": "python",
   "pygments_lexer": "ipython3",
   "version": "3.8.8"
  }
 },
 "nbformat": 4,
 "nbformat_minor": 1
}
